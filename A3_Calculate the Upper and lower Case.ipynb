{
 "cells": [
  {
   "cell_type": "code",
   "execution_count": 7,
   "metadata": {},
   "outputs": [],
   "source": [
    "#function to count UpperCase and LowerCase characters\n",
    "def count_of_uppercase_and_lowercas(string):\n",
    "    count1=0\n",
    "    count2=0\n",
    "    for i in string:\n",
    "        if i != ' ':\n",
    "            if ord(i)>97 and ord(i)<=122:\n",
    "                count1+=1\n",
    "            else:\n",
    "                count2+=1\n",
    "    print('The number of UpperCase Characters:' ,count2)\n",
    "    print('The number of LowerCase Characters:' ,count1)\n",
    "\n",
    "    \n",
    "    "
   ]
  },
  {
   "cell_type": "code",
   "execution_count": 2,
   "metadata": {},
   "outputs": [
    {
     "name": "stdout",
     "output_type": "stream",
     "text": [
      "Enter the Sentence:The quick Brow Fox\n",
      "The number of UpperCase Characters: 3\n",
      "The number of LowerCase Characters: 12\n"
     ]
    }
   ],
   "source": [
    "sentence=input('Enter the Sentence:')\n",
    "count_of_uppercase_and_lowercas(sentence)\n",
    "    "
   ]
  },
  {
   "cell_type": "code",
   "execution_count": null,
   "metadata": {},
   "outputs": [],
   "source": []
  }
 ],
 "metadata": {
  "kernelspec": {
   "display_name": "Python 3",
   "language": "python",
   "name": "python3"
  },
  "language_info": {
   "codemirror_mode": {
    "name": "ipython",
    "version": 3
   },
   "file_extension": ".py",
   "mimetype": "text/x-python",
   "name": "python",
   "nbconvert_exporter": "python",
   "pygments_lexer": "ipython3",
   "version": "3.8.5"
  }
 },
 "nbformat": 4,
 "nbformat_minor": 5
}
