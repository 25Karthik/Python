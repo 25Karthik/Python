{
 "cells": [
  {
   "cell_type": "code",
   "execution_count": 20,
   "metadata": {},
   "outputs": [
    {
     "name": "stdout",
     "output_type": "stream",
     "text": [
      "[(1, 2), (2, 1), (2, 3), (2, 5), (4, 4)]\n",
      "Output: [(2, 1), (1, 2), (2, 3), (4, 4), (2, 5)]\n"
     ]
    }
   ],
   "source": [
    "s=[(2, 5), (1, 2), (4, 4), (2, 3), (2, 1)]\n",
    "s.sort()\n",
    "print(s)\n",
    "length_of_s=len(s)\n",
    "index=1\n",
    "r=0\n",
    "t=s[index]\n",
    "for i in s:\n",
    "    if i[1]>t[1]:\n",
    "        index=index+1\n",
    "        t=s[index]\n",
    "        s[r],s[r+1]=s[r+1],s[r]\n",
    "    else:\n",
    "        pass\n",
    "    r+=1\n",
    "print('Output:' ,s)"
   ]
  },
  {
   "cell_type": "code",
   "execution_count": null,
   "metadata": {},
   "outputs": [],
   "source": []
  }
 ],
 "metadata": {
  "kernelspec": {
   "display_name": "Python 3",
   "language": "python",
   "name": "python3"
  },
  "language_info": {
   "codemirror_mode": {
    "name": "ipython",
    "version": 3
   },
   "file_extension": ".py",
   "mimetype": "text/x-python",
   "name": "python",
   "nbconvert_exporter": "python",
   "pygments_lexer": "ipython3",
   "version": "3.8.5"
  }
 },
 "nbformat": 4,
 "nbformat_minor": 4
}
